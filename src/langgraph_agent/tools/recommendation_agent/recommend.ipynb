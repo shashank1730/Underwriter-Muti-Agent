{
 "cells": [
  {
   "cell_type": "code",
   "execution_count": 5,
   "id": "5a7d3e00",
   "metadata": {},
   "outputs": [],
   "source": [
    "from langchain_community.document_loaders import UnstructuredExcelLoader\n",
    "from langchain.text_splitter import RecursiveCharacterTextSplitter\n",
    "from langchain.embeddings import HuggingFaceEmbeddings\n",
    "from langchain.vectorstores import Chroma\n",
    "from IPython.display import display, Markdown"
   ]
  },
  {
   "cell_type": "code",
   "execution_count": 6,
   "id": "3d0b8b47",
   "metadata": {},
   "outputs": [
    {
     "data": {
      "text/plain": [
       "[Document(metadata={'source': 'home_insurance_complaints_full.xlsx'}, page_content='Complaint_ID Customer_Name Address Complaint_Text Resolution_Done Date_Logged Status C001 Customer 1 789 Pine Rd, Austin Water leakage in basement Approved water mitigation, recommended sump pump installation 2024-11-25 Resolved C002 Customer 2 369 Aspen Way, Chicago Cracks in foundation Denied claim as maintenance issue (normal wear and tear) 2024-10-07 Pending C003 Customer 3 789 Pine Rd, Austin Fire damage in kitchen Approved claim, covered for repairs and appliance replacement 2024-07-02 Pending C004 Customer 4 456 Oak Ave, Dallas Tree fell on garage Approved contractor removal and garage repair 2024-08-20 In Review C005 Customer 5 123 Main St, Springfield Theft of electronics Approved claim, reimbursement issued for covered items 2024-01-22 Resolved C006 Customer 6 789 Pine Rd, Austin Broken window due to vandalism Approved replacement under dwelling coverage 2024-12-12 Resolved C007 Customer 7 258 Cherry Ct, Phoenix Mold in bathroom Denied claim, not covered as it was due to poor ventilation 2024-02-24 In Review C008 Customer 8 789 Pine Rd, Austin Burst pipe in winter Approved plumber service, water damage covered 2024-07-24 Pending C009 Customer 9 123 Main St, Springfield Damaged fence from storm Partial approval, fence repair covered under other structures 2024-06-21 In Review C010 Customer 10 369 Aspen Way, Chicago Leak in roof after storm Approved contractor repair, covered under dwelling protection 2024-03-05 Resolved C011 Customer 11 258 Cherry Ct, Phoenix Water leakage in basement Approved water mitigation, recommended sump pump installation 2024-06-17 In Review C012 Customer 12 159 Palm Ave, Los Angeles Cracks in foundation Denied claim as maintenance issue (normal wear and tear) 2024-09-22 Resolved C013 Customer 13 159 Palm Ave, Los Angeles Fire damage in kitchen Approved claim, covered for repairs and appliance replacement 2024-06-07 In Review C014 Customer 14 789 Pine Rd, Austin Tree fell on garage Approved contractor removal and garage repair 2024-07-21 In Review C015 Customer 15 654 Cedar Ln, Boston Theft of electronics Approved claim, reimbursement issued for covered items 2024-02-15 In Review C016 Customer 16 159 Palm Ave, Los Angeles Broken window due to vandalism Approved replacement under dwelling coverage 2024-06-18 In Review C017 Customer 17 789 Pine Rd, Austin Mold in bathroom Denied claim, not covered as it was due to poor ventilation 2024-04-14 Pending C018 Customer 18 987 Birch Blvd, Denver Burst pipe in winter Approved plumber service, water damage covered 2024-06-08 In Review C019 Customer 19 654 Cedar Ln, Boston Damaged fence from storm Partial approval, fence repair covered under other structures 2024-11-23 Pending C020 Customer 20 123 Main St, Springfield Leak in roof after storm Approved contractor repair, covered under dwelling protection 2024-04-10 Resolved C021 Customer 21 321 Maple Dr, Seattle Water leakage in basement Approved water mitigation, recommended sump pump installation 2024-06-20 Pending C022 Customer 22 654 Cedar Ln, Boston Cracks in foundation Denied claim as maintenance issue (normal wear and tear) 2024-02-27 Pending C023 Customer 23 147 Walnut St, Miami Fire damage in kitchen Approved claim, covered for repairs and appliance replacement 2024-02-17 In Review C024 Customer 24 456 Oak Ave, Dallas Tree fell on garage Approved contractor removal and garage repair 2024-01-21 Resolved C025 Customer 25 654 Cedar Ln, Boston Theft of electronics Approved claim, reimbursement issued for covered items 2024-03-04 Resolved C026 Customer 26 147 Walnut St, Miami Broken window due to vandalism Approved replacement under dwelling coverage 2024-04-24 In Review C027 Customer 27 654 Cedar Ln, Boston Mold in bathroom Denied claim, not covered as it was due to poor ventilation 2024-03-26 In Review C028 Customer 28 456 Oak Ave, Dallas Burst pipe in winter Approved plumber service, water damage covered 2024-05-25 Pending C029 Customer 29 123 Main St, Springfield Damaged fence from storm Partial approval, fence repair covered under other structures 2024-10-23 Resolved C030 Customer 30 321 Maple Dr, Seattle Leak in roof after storm Approved contractor repair, covered under dwelling protection 2024-11-27 In Review C031 Customer 31 789 Pine Rd, Austin Water leakage in basement Approved water mitigation, recommended sump pump installation 2024-09-19 Pending C032 Customer 32 147 Walnut St, Miami Cracks in foundation Denied claim as maintenance issue (normal wear and tear) 2024-08-16 In Review C033 Customer 33 456 Oak Ave, Dallas Fire damage in kitchen Approved claim, covered for repairs and appliance replacement 2024-03-22 In Review C034 Customer 34 369 Aspen Way, Chicago Tree fell on garage Approved contractor removal and garage repair 2024-04-20 In Review C035 Customer 35 123 Main St, Springfield Theft of electronics Approved claim, reimbursement issued for covered items 2024-06-25 Pending C036 Customer 36 369 Aspen Way, Chicago Broken window due to vandalism Approved replacement under dwelling coverage 2024-10-13 Resolved C037 Customer 37 321 Maple Dr, Seattle Mold in bathroom Denied claim, not covered as it was due to poor ventilation 2024-03-11 In Review C038 Customer 38 789 Pine Rd, Austin Burst pipe in winter Approved plumber service, water damage covered 2024-04-23 Resolved C039 Customer 39 123 Main St, Springfield Damaged fence from storm Partial approval, fence repair covered under other structures 2024-03-10 In Review C040 Customer 40 258 Cherry Ct, Phoenix Leak in roof after storm Approved contractor repair, covered under dwelling protection 2024-01-12 In Review C041 Customer 41 369 Aspen Way, Chicago Water leakage in basement Approved water mitigation, recommended sump pump installation 2024-04-13 Pending C042 Customer 42 258 Cherry Ct, Phoenix Cracks in foundation Denied claim as maintenance issue (normal wear and tear) 2024-04-27 Resolved C043 Customer 43 123 Main St, Springfield Fire damage in kitchen Approved claim, covered for repairs and appliance replacement 2024-12-22 Pending C044 Customer 44 321 Maple Dr, Seattle Tree fell on garage Approved contractor removal and garage repair 2024-02-27 Pending C045 Customer 45 789 Pine Rd, Austin Theft of electronics Approved claim, reimbursement issued for covered items 2024-06-12 In Review C046 Customer 46 456 Oak Ave, Dallas Broken window due to vandalism Approved replacement under dwelling coverage 2024-08-28 Pending C047 Customer 47 789 Pine Rd, Austin Mold in bathroom Denied claim, not covered as it was due to poor ventilation 2024-04-16 Pending C048 Customer 48 654 Cedar Ln, Boston Burst pipe in winter Approved plumber service, water damage covered 2024-08-26 In Review C049 Customer 49 123 Main St, Springfield Damaged fence from storm Partial approval, fence repair covered under other structures 2024-05-07 In Review C050 Customer 50 123 Main St, Springfield Leak in roof after storm Approved contractor repair, covered under dwelling protection 2024-08-23 In Review C051 Customer 51 789 Pine Rd, Austin Water leakage in basement Approved water mitigation, recommended sump pump installation 2024-09-17 In Review C052 Customer 52 123 Main St, Springfield Cracks in foundation Denied claim as maintenance issue (normal wear and tear) 2024-01-04 In Review C053 Customer 53 147 Walnut St, Miami Fire damage in kitchen Approved claim, covered for repairs and appliance replacement 2024-07-16 Resolved C054 Customer 54 321 Maple Dr, Seattle Tree fell on garage Approved contractor removal and garage repair 2024-03-05 Pending C055 Customer 55 789 Pine Rd, Austin Theft of electronics Approved claim, reimbursement issued for covered items 2024-10-25 Pending C056 Customer 56 987 Birch Blvd, Denver Broken window due to vandalism Approved replacement under dwelling coverage 2024-04-12 Pending C057 Customer 57 369 Aspen Way, Chicago Mold in bathroom Denied claim, not covered as it was due to poor ventilation 2024-04-26 In Review C058 Customer 58 123 Main St, Springfield Burst pipe in winter Approved plumber service, water damage covered 2024-07-26 In Review C059 Customer 59 369 Aspen Way, Chicago Damaged fence from storm Partial approval, fence repair covered under other structures 2024-12-15 Resolved C060 Customer 60 321 Maple Dr, Seattle Leak in roof after storm Approved contractor repair, covered under dwelling protection 2024-08-12 Resolved C061 Customer 61 987 Birch Blvd, Denver Water leakage in basement Approved water mitigation, recommended sump pump installation 2024-02-08 In Review C062 Customer 62 789 Pine Rd, Austin Cracks in foundation Denied claim as maintenance issue (normal wear and tear) 2024-02-24 Resolved C063 Customer 63 321 Maple Dr, Seattle Fire damage in kitchen Approved claim, covered for repairs and appliance replacement 2024-06-26 Pending C064 Customer 64 258 Cherry Ct, Phoenix Tree fell on garage Approved contractor removal and garage repair 2024-05-11 Resolved C065 Customer 65 456 Oak Ave, Dallas Theft of electronics Approved claim, reimbursement issued for covered items 2024-04-20 Resolved C066 Customer 66 654 Cedar Ln, Boston Broken window due to vandalism Approved replacement under dwelling coverage 2024-03-01 In Review C067 Customer 67 456 Oak Ave, Dallas Mold in bathroom Denied claim, not covered as it was due to poor ventilation 2024-07-20 Resolved C068 Customer 68 147 Walnut St, Miami Burst pipe in winter Approved plumber service, water damage covered 2024-02-05 In Review C069 Customer 69 321 Maple Dr, Seattle Damaged fence from storm Partial approval, fence repair covered under other structures 2024-02-06 Resolved C070 Customer 70 123 Main St, Springfield Leak in roof after storm Approved contractor repair, covered under dwelling protection 2024-11-18 Resolved C071 Customer 71 987 Birch Blvd, Denver Water leakage in basement Approved water mitigation, recommended sump pump installation 2024-01-04 Pending C072 Customer 72 159 Palm Ave, Los Angeles Cracks in foundation Denied claim as maintenance issue (normal wear and tear) 2024-09-09 In Review C073 Customer 73 159 Palm Ave, Los Angeles Fire damage in kitchen Approved claim, covered for repairs and appliance replacement 2024-12-22 Pending C074 Customer 74 789 Pine Rd, Austin Tree fell on garage Approved contractor removal and garage repair 2024-06-16 Resolved C075 Customer 75 258 Cherry Ct, Phoenix Theft of electronics Approved claim, reimbursement issued for covered items 2024-06-22 Pending C076 Customer 76 147 Walnut St, Miami Broken window due to vandalism Approved replacement under dwelling coverage 2024-10-13 Pending C077 Customer 77 258 Cherry Ct, Phoenix Mold in bathroom Denied claim, not covered as it was due to poor ventilation 2024-12-18 Resolved C078 Customer 78 789 Pine Rd, Austin Burst pipe in winter Approved plumber service, water damage covered 2024-10-08 In Review C079 Customer 79 654 Cedar Ln, Boston Damaged fence from storm Partial approval, fence repair covered under other structures 2024-01-13 Resolved C080 Customer 80 258 Cherry Ct, Phoenix Leak in roof after storm Approved contractor repair, covered under dwelling protection 2024-11-05 Pending C081 Customer 81 159 Palm Ave, Los Angeles Water leakage in basement Approved water mitigation, recommended sump pump installation 2024-10-19 Resolved C082 Customer 82 321 Maple Dr, Seattle Cracks in foundation Denied claim as maintenance issue (normal wear and tear) 2024-08-04 Resolved C083 Customer 83 258 Cherry Ct, Phoenix Fire damage in kitchen Approved claim, covered for repairs and appliance replacement 2024-05-12 In Review C084 Customer 84 456 Oak Ave, Dallas Tree fell on garage Approved contractor removal and garage repair 2024-06-26 In Review C085 Customer 85 987 Birch Blvd, Denver Theft of electronics Approved claim, reimbursement issued for covered items 2024-08-20 Resolved C086 Customer 86 789 Pine Rd, Austin Broken window due to vandalism Approved replacement under dwelling coverage 2024-08-05 Pending C087 Customer 87 789 Pine Rd, Austin Mold in bathroom Denied claim, not covered as it was due to poor ventilation 2024-05-23 Pending C088 Customer 88 456 Oak Ave, Dallas Burst pipe in winter Approved plumber service, water damage covered 2024-05-13 Pending C089 Customer 89 369 Aspen Way, Chicago Damaged fence from storm Partial approval, fence repair covered under other structures 2024-06-11 In Review C090 Customer 90 123 Main St, Springfield Leak in roof after storm Approved contractor repair, covered under dwelling protection 2024-11-11 Resolved C091 Customer 91 369 Aspen Way, Chicago Water leakage in basement Approved water mitigation, recommended sump pump installation 2024-04-09 Resolved C092 Customer 92 258 Cherry Ct, Phoenix Cracks in foundation Denied claim as maintenance issue (normal wear and tear) 2024-08-20 Pending C093 Customer 93 654 Cedar Ln, Boston Fire damage in kitchen Approved claim, covered for repairs and appliance replacement 2024-05-16 Resolved C094 Customer 94 123 Main St, Springfield Tree fell on garage Approved contractor removal and garage repair 2024-06-03 Pending C095 Customer 95 654 Cedar Ln, Boston Theft of electronics Approved claim, reimbursement issued for covered items 2024-09-23 Pending C096 Customer 96 369 Aspen Way, Chicago Broken window due to vandalism Approved replacement under dwelling coverage 2024-09-27 Pending C097 Customer 97 321 Maple Dr, Seattle Mold in bathroom Denied claim, not covered as it was due to poor ventilation 2024-06-04 Pending C098 Customer 98 456 Oak Ave, Dallas Burst pipe in winter Approved plumber service, water damage covered 2024-12-14 In Review C099 Customer 99 147 Walnut St, Miami Damaged fence from storm Partial approval, fence repair covered under other structures 2024-06-16 Resolved C100 Customer 100 654 Cedar Ln, Boston Leak in roof after storm Approved contractor repair, covered under dwelling protection 2024-03-28 Resolved')]"
      ]
     },
     "execution_count": 6,
     "metadata": {},
     "output_type": "execute_result"
    }
   ],
   "source": [
    "loader = UnstructuredExcelLoader(\"home_insurance_complaints_full.xlsx\")\n",
    "data = loader.load()\n",
    "data[:5]"
   ]
  },
  {
   "cell_type": "code",
   "execution_count": null,
   "id": "02b2a5ec",
   "metadata": {},
   "outputs": [
    {
     "data": {
      "text/plain": [
       "[Document(metadata={'source': 'home_insurance_complaints_full.xlsx'}, page_content='Complaint_ID Customer_Name Address Complaint_Text Resolution_Done Date_Logged Status C001 Customer 1 789 Pine Rd, Austin Water leakage in basement Approved water mitigation, recommended sump pump installation 2024-11-25 Resolved C002 Customer 2 369 Aspen Way, Chicago Cracks in foundation Denied claim as maintenance issue (normal wear and tear) 2024-10-07 Pending C003 Customer 3 789 Pine Rd, Austin Fire damage in kitchen Approved claim, covered for repairs and appliance replacement 2024-07-02 Pending C004 Customer 4 456 Oak Ave, Dallas Tree fell on garage Approved contractor removal and garage repair 2024-08-20 In Review C005 Customer 5 123 Main St, Springfield Theft of electronics Approved claim, reimbursement issued for covered items 2024-01-22 Resolved C006 Customer 6 789 Pine Rd, Austin Broken window due to vandalism Approved replacement under dwelling coverage 2024-12-12 Resolved C007 Customer 7 258 Cherry Ct, Phoenix Mold in bathroom Denied claim, not covered as it was due to poor'),\n",
       " Document(metadata={'source': 'home_insurance_complaints_full.xlsx'}, page_content='Customer 7 258 Cherry Ct, Phoenix Mold in bathroom Denied claim, not covered as it was due to poor ventilation 2024-02-24 In Review C008 Customer 8 789 Pine Rd, Austin Burst pipe in winter Approved plumber service, water damage covered 2024-07-24 Pending C009 Customer 9 123 Main St, Springfield Damaged fence from storm Partial approval, fence repair covered under other structures 2024-06-21 In Review C010 Customer 10 369 Aspen Way, Chicago Leak in roof after storm Approved contractor repair, covered under dwelling protection 2024-03-05 Resolved C011 Customer 11 258 Cherry Ct, Phoenix Water leakage in basement Approved water mitigation, recommended sump pump installation 2024-06-17 In Review C012 Customer 12 159 Palm Ave, Los Angeles Cracks in foundation Denied claim as maintenance issue (normal wear and tear) 2024-09-22 Resolved C013 Customer 13 159 Palm Ave, Los Angeles Fire damage in kitchen Approved claim, covered for repairs and appliance replacement 2024-06-07 In Review C014'),\n",
       " Document(metadata={'source': 'home_insurance_complaints_full.xlsx'}, page_content='in kitchen Approved claim, covered for repairs and appliance replacement 2024-06-07 In Review C014 Customer 14 789 Pine Rd, Austin Tree fell on garage Approved contractor removal and garage repair 2024-07-21 In Review C015 Customer 15 654 Cedar Ln, Boston Theft of electronics Approved claim, reimbursement issued for covered items 2024-02-15 In Review C016 Customer 16 159 Palm Ave, Los Angeles Broken window due to vandalism Approved replacement under dwelling coverage 2024-06-18 In Review C017 Customer 17 789 Pine Rd, Austin Mold in bathroom Denied claim, not covered as it was due to poor ventilation 2024-04-14 Pending C018 Customer 18 987 Birch Blvd, Denver Burst pipe in winter Approved plumber service, water damage covered 2024-06-08 In Review C019 Customer 19 654 Cedar Ln, Boston Damaged fence from storm Partial approval, fence repair covered under other structures 2024-11-23 Pending C020 Customer 20 123 Main St, Springfield Leak in roof after storm Approved contractor repair,'),\n",
       " Document(metadata={'source': 'home_insurance_complaints_full.xlsx'}, page_content='C020 Customer 20 123 Main St, Springfield Leak in roof after storm Approved contractor repair, covered under dwelling protection 2024-04-10 Resolved C021 Customer 21 321 Maple Dr, Seattle Water leakage in basement Approved water mitigation, recommended sump pump installation 2024-06-20 Pending C022 Customer 22 654 Cedar Ln, Boston Cracks in foundation Denied claim as maintenance issue (normal wear and tear) 2024-02-27 Pending C023 Customer 23 147 Walnut St, Miami Fire damage in kitchen Approved claim, covered for repairs and appliance replacement 2024-02-17 In Review C024 Customer 24 456 Oak Ave, Dallas Tree fell on garage Approved contractor removal and garage repair 2024-01-21 Resolved C025 Customer 25 654 Cedar Ln, Boston Theft of electronics Approved claim, reimbursement issued for covered items 2024-03-04 Resolved C026 Customer 26 147 Walnut St, Miami Broken window due to vandalism Approved replacement under dwelling coverage 2024-04-24 In Review C027 Customer 27 654 Cedar Ln,'),\n",
       " Document(metadata={'source': 'home_insurance_complaints_full.xlsx'}, page_content='Approved replacement under dwelling coverage 2024-04-24 In Review C027 Customer 27 654 Cedar Ln, Boston Mold in bathroom Denied claim, not covered as it was due to poor ventilation 2024-03-26 In Review C028 Customer 28 456 Oak Ave, Dallas Burst pipe in winter Approved plumber service, water damage covered 2024-05-25 Pending C029 Customer 29 123 Main St, Springfield Damaged fence from storm Partial approval, fence repair covered under other structures 2024-10-23 Resolved C030 Customer 30 321 Maple Dr, Seattle Leak in roof after storm Approved contractor repair, covered under dwelling protection 2024-11-27 In Review C031 Customer 31 789 Pine Rd, Austin Water leakage in basement Approved water mitigation, recommended sump pump installation 2024-09-19 Pending C032 Customer 32 147 Walnut St, Miami Cracks in foundation Denied claim as maintenance issue (normal wear and tear) 2024-08-16 In Review C033 Customer 33 456 Oak Ave, Dallas Fire damage in kitchen Approved claim, covered for repairs'),\n",
       " Document(metadata={'source': 'home_insurance_complaints_full.xlsx'}, page_content='C033 Customer 33 456 Oak Ave, Dallas Fire damage in kitchen Approved claim, covered for repairs and appliance replacement 2024-03-22 In Review C034 Customer 34 369 Aspen Way, Chicago Tree fell on garage Approved contractor removal and garage repair 2024-04-20 In Review C035 Customer 35 123 Main St, Springfield Theft of electronics Approved claim, reimbursement issued for covered items 2024-06-25 Pending C036 Customer 36 369 Aspen Way, Chicago Broken window due to vandalism Approved replacement under dwelling coverage 2024-10-13 Resolved C037 Customer 37 321 Maple Dr, Seattle Mold in bathroom Denied claim, not covered as it was due to poor ventilation 2024-03-11 In Review C038 Customer 38 789 Pine Rd, Austin Burst pipe in winter Approved plumber service, water damage covered 2024-04-23 Resolved C039 Customer 39 123 Main St, Springfield Damaged fence from storm Partial approval, fence repair covered under other structures 2024-03-10 In Review C040 Customer 40 258 Cherry Ct, Phoenix Leak'),\n",
       " Document(metadata={'source': 'home_insurance_complaints_full.xlsx'}, page_content='covered under other structures 2024-03-10 In Review C040 Customer 40 258 Cherry Ct, Phoenix Leak in roof after storm Approved contractor repair, covered under dwelling protection 2024-01-12 In Review C041 Customer 41 369 Aspen Way, Chicago Water leakage in basement Approved water mitigation, recommended sump pump installation 2024-04-13 Pending C042 Customer 42 258 Cherry Ct, Phoenix Cracks in foundation Denied claim as maintenance issue (normal wear and tear) 2024-04-27 Resolved C043 Customer 43 123 Main St, Springfield Fire damage in kitchen Approved claim, covered for repairs and appliance replacement 2024-12-22 Pending C044 Customer 44 321 Maple Dr, Seattle Tree fell on garage Approved contractor removal and garage repair 2024-02-27 Pending C045 Customer 45 789 Pine Rd, Austin Theft of electronics Approved claim, reimbursement issued for covered items 2024-06-12 In Review C046 Customer 46 456 Oak Ave, Dallas Broken window due to vandalism Approved replacement under dwelling'),\n",
       " Document(metadata={'source': 'home_insurance_complaints_full.xlsx'}, page_content='Customer 46 456 Oak Ave, Dallas Broken window due to vandalism Approved replacement under dwelling coverage 2024-08-28 Pending C047 Customer 47 789 Pine Rd, Austin Mold in bathroom Denied claim, not covered as it was due to poor ventilation 2024-04-16 Pending C048 Customer 48 654 Cedar Ln, Boston Burst pipe in winter Approved plumber service, water damage covered 2024-08-26 In Review C049 Customer 49 123 Main St, Springfield Damaged fence from storm Partial approval, fence repair covered under other structures 2024-05-07 In Review C050 Customer 50 123 Main St, Springfield Leak in roof after storm Approved contractor repair, covered under dwelling protection 2024-08-23 In Review C051 Customer 51 789 Pine Rd, Austin Water leakage in basement Approved water mitigation, recommended sump pump installation 2024-09-17 In Review C052 Customer 52 123 Main St, Springfield Cracks in foundation Denied claim as maintenance issue (normal wear and tear) 2024-01-04 In Review C053 Customer 53 147'),\n",
       " Document(metadata={'source': 'home_insurance_complaints_full.xlsx'}, page_content='Denied claim as maintenance issue (normal wear and tear) 2024-01-04 In Review C053 Customer 53 147 Walnut St, Miami Fire damage in kitchen Approved claim, covered for repairs and appliance replacement 2024-07-16 Resolved C054 Customer 54 321 Maple Dr, Seattle Tree fell on garage Approved contractor removal and garage repair 2024-03-05 Pending C055 Customer 55 789 Pine Rd, Austin Theft of electronics Approved claim, reimbursement issued for covered items 2024-10-25 Pending C056 Customer 56 987 Birch Blvd, Denver Broken window due to vandalism Approved replacement under dwelling coverage 2024-04-12 Pending C057 Customer 57 369 Aspen Way, Chicago Mold in bathroom Denied claim, not covered as it was due to poor ventilation 2024-04-26 In Review C058 Customer 58 123 Main St, Springfield Burst pipe in winter Approved plumber service, water damage covered 2024-07-26 In Review C059 Customer 59 369 Aspen Way, Chicago Damaged fence from storm Partial approval, fence repair covered under other'),\n",
       " Document(metadata={'source': 'home_insurance_complaints_full.xlsx'}, page_content='369 Aspen Way, Chicago Damaged fence from storm Partial approval, fence repair covered under other structures 2024-12-15 Resolved C060 Customer 60 321 Maple Dr, Seattle Leak in roof after storm Approved contractor repair, covered under dwelling protection 2024-08-12 Resolved C061 Customer 61 987 Birch Blvd, Denver Water leakage in basement Approved water mitigation, recommended sump pump installation 2024-02-08 In Review C062 Customer 62 789 Pine Rd, Austin Cracks in foundation Denied claim as maintenance issue (normal wear and tear) 2024-02-24 Resolved C063 Customer 63 321 Maple Dr, Seattle Fire damage in kitchen Approved claim, covered for repairs and appliance replacement 2024-06-26 Pending C064 Customer 64 258 Cherry Ct, Phoenix Tree fell on garage Approved contractor removal and garage repair 2024-05-11 Resolved C065 Customer 65 456 Oak Ave, Dallas Theft of electronics Approved claim, reimbursement issued for covered items 2024-04-20 Resolved C066 Customer 66 654 Cedar Ln, Boston'),\n",
       " Document(metadata={'source': 'home_insurance_complaints_full.xlsx'}, page_content='reimbursement issued for covered items 2024-04-20 Resolved C066 Customer 66 654 Cedar Ln, Boston Broken window due to vandalism Approved replacement under dwelling coverage 2024-03-01 In Review C067 Customer 67 456 Oak Ave, Dallas Mold in bathroom Denied claim, not covered as it was due to poor ventilation 2024-07-20 Resolved C068 Customer 68 147 Walnut St, Miami Burst pipe in winter Approved plumber service, water damage covered 2024-02-05 In Review C069 Customer 69 321 Maple Dr, Seattle Damaged fence from storm Partial approval, fence repair covered under other structures 2024-02-06 Resolved C070 Customer 70 123 Main St, Springfield Leak in roof after storm Approved contractor repair, covered under dwelling protection 2024-11-18 Resolved C071 Customer 71 987 Birch Blvd, Denver Water leakage in basement Approved water mitigation, recommended sump pump installation 2024-01-04 Pending C072 Customer 72 159 Palm Ave, Los Angeles Cracks in foundation Denied claim as maintenance issue'),\n",
       " Document(metadata={'source': 'home_insurance_complaints_full.xlsx'}, page_content='C072 Customer 72 159 Palm Ave, Los Angeles Cracks in foundation Denied claim as maintenance issue (normal wear and tear) 2024-09-09 In Review C073 Customer 73 159 Palm Ave, Los Angeles Fire damage in kitchen Approved claim, covered for repairs and appliance replacement 2024-12-22 Pending C074 Customer 74 789 Pine Rd, Austin Tree fell on garage Approved contractor removal and garage repair 2024-06-16 Resolved C075 Customer 75 258 Cherry Ct, Phoenix Theft of electronics Approved claim, reimbursement issued for covered items 2024-06-22 Pending C076 Customer 76 147 Walnut St, Miami Broken window due to vandalism Approved replacement under dwelling coverage 2024-10-13 Pending C077 Customer 77 258 Cherry Ct, Phoenix Mold in bathroom Denied claim, not covered as it was due to poor ventilation 2024-12-18 Resolved C078 Customer 78 789 Pine Rd, Austin Burst pipe in winter Approved plumber service, water damage covered 2024-10-08 In Review C079 Customer 79 654 Cedar Ln, Boston Damaged fence from'),\n",
       " Document(metadata={'source': 'home_insurance_complaints_full.xlsx'}, page_content='water damage covered 2024-10-08 In Review C079 Customer 79 654 Cedar Ln, Boston Damaged fence from storm Partial approval, fence repair covered under other structures 2024-01-13 Resolved C080 Customer 80 258 Cherry Ct, Phoenix Leak in roof after storm Approved contractor repair, covered under dwelling protection 2024-11-05 Pending C081 Customer 81 159 Palm Ave, Los Angeles Water leakage in basement Approved water mitigation, recommended sump pump installation 2024-10-19 Resolved C082 Customer 82 321 Maple Dr, Seattle Cracks in foundation Denied claim as maintenance issue (normal wear and tear) 2024-08-04 Resolved C083 Customer 83 258 Cherry Ct, Phoenix Fire damage in kitchen Approved claim, covered for repairs and appliance replacement 2024-05-12 In Review C084 Customer 84 456 Oak Ave, Dallas Tree fell on garage Approved contractor removal and garage repair 2024-06-26 In Review C085 Customer 85 987 Birch Blvd, Denver Theft of electronics Approved claim, reimbursement issued for'),\n",
       " Document(metadata={'source': 'home_insurance_complaints_full.xlsx'}, page_content='Customer 85 987 Birch Blvd, Denver Theft of electronics Approved claim, reimbursement issued for covered items 2024-08-20 Resolved C086 Customer 86 789 Pine Rd, Austin Broken window due to vandalism Approved replacement under dwelling coverage 2024-08-05 Pending C087 Customer 87 789 Pine Rd, Austin Mold in bathroom Denied claim, not covered as it was due to poor ventilation 2024-05-23 Pending C088 Customer 88 456 Oak Ave, Dallas Burst pipe in winter Approved plumber service, water damage covered 2024-05-13 Pending C089 Customer 89 369 Aspen Way, Chicago Damaged fence from storm Partial approval, fence repair covered under other structures 2024-06-11 In Review C090 Customer 90 123 Main St, Springfield Leak in roof after storm Approved contractor repair, covered under dwelling protection 2024-11-11 Resolved C091 Customer 91 369 Aspen Way, Chicago Water leakage in basement Approved water mitigation, recommended sump pump installation 2024-04-09 Resolved C092 Customer 92 258 Cherry Ct,'),\n",
       " Document(metadata={'source': 'home_insurance_complaints_full.xlsx'}, page_content='mitigation, recommended sump pump installation 2024-04-09 Resolved C092 Customer 92 258 Cherry Ct, Phoenix Cracks in foundation Denied claim as maintenance issue (normal wear and tear) 2024-08-20 Pending C093 Customer 93 654 Cedar Ln, Boston Fire damage in kitchen Approved claim, covered for repairs and appliance replacement 2024-05-16 Resolved C094 Customer 94 123 Main St, Springfield Tree fell on garage Approved contractor removal and garage repair 2024-06-03 Pending C095 Customer 95 654 Cedar Ln, Boston Theft of electronics Approved claim, reimbursement issued for covered items 2024-09-23 Pending C096 Customer 96 369 Aspen Way, Chicago Broken window due to vandalism Approved replacement under dwelling coverage 2024-09-27 Pending C097 Customer 97 321 Maple Dr, Seattle Mold in bathroom Denied claim, not covered as it was due to poor ventilation 2024-06-04 Pending C098 Customer 98 456 Oak Ave, Dallas Burst pipe in winter Approved plumber service, water damage covered 2024-12-14 In'),\n",
       " Document(metadata={'source': 'home_insurance_complaints_full.xlsx'}, page_content='Oak Ave, Dallas Burst pipe in winter Approved plumber service, water damage covered 2024-12-14 In Review C099 Customer 99 147 Walnut St, Miami Damaged fence from storm Partial approval, fence repair covered under other structures 2024-06-16 Resolved C100 Customer 100 654 Cedar Ln, Boston Leak in roof after storm Approved contractor repair, covered under dwelling protection 2024-03-28 Resolved')]"
      ]
     },
     "execution_count": 12,
     "metadata": {},
     "output_type": "execute_result"
    }
   ],
   "source": [
    "from pydoc import text\n",
    "\n",
    "\n",
    "text_splitter = RecursiveCharacterTextSplitter(\n",
    "    chunk_size = 1000,\n",
    "    chunk_overlap = 100\n",
    ")\n",
    "\n",
    "chunks = text_splitter.split_documents(data)\n",
    "chunks"
   ]
  },
  {
   "cell_type": "code",
   "execution_count": 13,
   "id": "eaea7f2f",
   "metadata": {},
   "outputs": [
    {
     "name": "stderr",
     "output_type": "stream",
     "text": [
      "/var/folders/8q/0911zl2x3w18l6gw07kg880c0000gn/T/ipykernel_43956/2144045963.py:1: LangChainDeprecationWarning: The class `HuggingFaceEmbeddings` was deprecated in LangChain 0.2.2 and will be removed in 1.0. An updated version of the class exists in the :class:`~langchain-huggingface package and should be used instead. To use it run `pip install -U :class:`~langchain-huggingface` and import as `from :class:`~langchain_huggingface import HuggingFaceEmbeddings``.\n",
      "  embeddings = HuggingFaceEmbeddings(model_name=\"sentence-transformers/all-MiniLM-L6-v2\")\n",
      "/Users/pranathirudraraju/Desktop/Projects/Chatbot/Muti-tool-agent/venv/lib/python3.13/site-packages/tqdm/auto.py:21: TqdmWarning: IProgress not found. Please update jupyter and ipywidgets. See https://ipywidgets.readthedocs.io/en/stable/user_install.html\n",
      "  from .autonotebook import tqdm as notebook_tqdm\n"
     ]
    }
   ],
   "source": [
    "embeddings = HuggingFaceEmbeddings(model_name=\"sentence-transformers/all-MiniLM-L6-v2\")\n",
    "\n",
    "db = Chroma.from_documents(chunks, embeddings)"
   ]
  },
  {
   "cell_type": "code",
   "execution_count": 23,
   "id": "e8403b06",
   "metadata": {},
   "outputs": [
    {
     "data": {
      "text/markdown": [
       "C072 Customer 72 159 Palm Ave, Los Angeles Cracks in foundation Denied claim as maintenance issue (normal wear and tear) 2024-09-09 In Review C073 Customer 73 159 Palm Ave, Los Angeles Fire damage in kitchen Approved claim, covered for repairs and appliance replacement 2024-12-22 Pending C074 Customer 74 789 Pine Rd, Austin Tree fell on garage Approved contractor removal and garage repair 2024-06-16 Resolved C075 Customer 75 258 Cherry Ct, Phoenix Theft of electronics Approved claim, reimbursement issued for covered items 2024-06-22 Pending C076 Customer 76 147 Walnut St, Miami Broken window due to vandalism Approved replacement under dwelling coverage 2024-10-13 Pending C077 Customer 77 258 Cherry Ct, Phoenix Mold in bathroom Denied claim, not covered as it was due to poor ventilation 2024-12-18 Resolved C078 Customer 78 789 Pine Rd, Austin Burst pipe in winter Approved plumber service, water damage covered 2024-10-08 In Review C079 Customer 79 654 Cedar Ln, Boston Damaged fence from\n",
       "C020 Customer 20 123 Main St, Springfield Leak in roof after storm Approved contractor repair, covered under dwelling protection 2024-04-10 Resolved C021 Customer 21 321 Maple Dr, Seattle Water leakage in basement Approved water mitigation, recommended sump pump installation 2024-06-20 Pending C022 Customer 22 654 Cedar Ln, Boston Cracks in foundation Denied claim as maintenance issue (normal wear and tear) 2024-02-27 Pending C023 Customer 23 147 Walnut St, Miami Fire damage in kitchen Approved claim, covered for repairs and appliance replacement 2024-02-17 In Review C024 Customer 24 456 Oak Ave, Dallas Tree fell on garage Approved contractor removal and garage repair 2024-01-21 Resolved C025 Customer 25 654 Cedar Ln, Boston Theft of electronics Approved claim, reimbursement issued for covered items 2024-03-04 Resolved C026 Customer 26 147 Walnut St, Miami Broken window due to vandalism Approved replacement under dwelling coverage 2024-04-24 In Review C027 Customer 27 654 Cedar Ln,\n",
       "in kitchen Approved claim, covered for repairs and appliance replacement 2024-06-07 In Review C014 Customer 14 789 Pine Rd, Austin Tree fell on garage Approved contractor removal and garage repair 2024-07-21 In Review C015 Customer 15 654 Cedar Ln, Boston Theft of electronics Approved claim, reimbursement issued for covered items 2024-02-15 In Review C016 Customer 16 159 Palm Ave, Los Angeles Broken window due to vandalism Approved replacement under dwelling coverage 2024-06-18 In Review C017 Customer 17 789 Pine Rd, Austin Mold in bathroom Denied claim, not covered as it was due to poor ventilation 2024-04-14 Pending C018 Customer 18 987 Birch Blvd, Denver Burst pipe in winter Approved plumber service, water damage covered 2024-06-08 In Review C019 Customer 19 654 Cedar Ln, Boston Damaged fence from storm Partial approval, fence repair covered under other structures 2024-11-23 Pending C020 Customer 20 123 Main St, Springfield Leak in roof after storm Approved contractor repair,\n",
       "C033 Customer 33 456 Oak Ave, Dallas Fire damage in kitchen Approved claim, covered for repairs and appliance replacement 2024-03-22 In Review C034 Customer 34 369 Aspen Way, Chicago Tree fell on garage Approved contractor removal and garage repair 2024-04-20 In Review C035 Customer 35 123 Main St, Springfield Theft of electronics Approved claim, reimbursement issued for covered items 2024-06-25 Pending C036 Customer 36 369 Aspen Way, Chicago Broken window due to vandalism Approved replacement under dwelling coverage 2024-10-13 Resolved C037 Customer 37 321 Maple Dr, Seattle Mold in bathroom Denied claim, not covered as it was due to poor ventilation 2024-03-11 In Review C038 Customer 38 789 Pine Rd, Austin Burst pipe in winter Approved plumber service, water damage covered 2024-04-23 Resolved C039 Customer 39 123 Main St, Springfield Damaged fence from storm Partial approval, fence repair covered under other structures 2024-03-10 In Review C040 Customer 40 258 Cherry Ct, Phoenix Leak\n",
       "Denied claim as maintenance issue (normal wear and tear) 2024-01-04 In Review C053 Customer 53 147 Walnut St, Miami Fire damage in kitchen Approved claim, covered for repairs and appliance replacement 2024-07-16 Resolved C054 Customer 54 321 Maple Dr, Seattle Tree fell on garage Approved contractor removal and garage repair 2024-03-05 Pending C055 Customer 55 789 Pine Rd, Austin Theft of electronics Approved claim, reimbursement issued for covered items 2024-10-25 Pending C056 Customer 56 987 Birch Blvd, Denver Broken window due to vandalism Approved replacement under dwelling coverage 2024-04-12 Pending C057 Customer 57 369 Aspen Way, Chicago Mold in bathroom Denied claim, not covered as it was due to poor ventilation 2024-04-26 In Review C058 Customer 58 123 Main St, Springfield Burst pipe in winter Approved plumber service, water damage covered 2024-07-26 In Review C059 Customer 59 369 Aspen Way, Chicago Damaged fence from storm Partial approval, fence repair covered under other"
      ],
      "text/plain": [
       "<IPython.core.display.Markdown object>"
      ]
     },
     "metadata": {},
     "output_type": "display_data"
    }
   ],
   "source": [
    "query = \"my kitchen caught fire\"\n",
    "\n",
    "output_retrieval = db.similarity_search(query, k = 5)\n",
    "output_retrieval_merged = \"\\n\".join([doc.page_content for doc in output_retrieval])\n",
    "display(Markdown(output_retrieval_merged))"
   ]
  },
  {
   "cell_type": "code",
   "execution_count": 24,
   "id": "ccf81c56",
   "metadata": {},
   "outputs": [],
   "source": [
    "import os \n",
    "from langchain_google_genai import ChatGoogleGenerativeAI\n",
    "from dotenv import load_dotenv\n",
    "\n",
    "load_dotenv()\n",
    "api_key = os.getenv(\"GOOGLE_API_KEY\")\n",
    "llm = ChatGoogleGenerativeAI(\n",
    "                model=\"gemini-2.5-flash\",\n",
    "                google_api_key=api_key,\n",
    "                temperature = 0)"
   ]
  },
  {
   "cell_type": "code",
   "execution_count": 25,
   "id": "a9fc00cc",
   "metadata": {},
   "outputs": [],
   "source": [
    "prompt = f\"\"\"\n",
    "You are an expert home insurance advisor. \n",
    "Your task is to recommend the best next step for a customer based on:\n",
    "\n",
    "1. **Context**: Previous complaints and how they were resolved.  \n",
    "2. **Input**: The customer’s current query/problem.\n",
    "\n",
    "Guidelines:\n",
    "- Use the context as primary reference to suggest solutions.  \n",
    "- If the context has similar past cases, base your recommendation on them.  \n",
    "- If the case is new or unclear, provide a practical recommendation (e.g., contact support, inspection, file a claim).  \n",
    "- Be concise, clear, and helpful.\n",
    "\n",
    "Context:\n",
    "{output_retrieval_merged}\n",
    "\n",
    "Customer Query:\n",
    "{query}\n",
    "\n",
    "Recommendation:\n",
    "\"\"\"\n"
   ]
  },
  {
   "cell_type": "code",
   "execution_count": 27,
   "id": "bdf8dee7",
   "metadata": {},
   "outputs": [],
   "source": [
    "prompt = f\"\"\"\n",
    "You are an expert home insurance underwriter. \n",
    "Your task is to draft a professional, empathetic email to a customer based on:\n",
    "\n",
    "1. **Context**: Previous similar complaints and their resolutions.  \n",
    "2. **Input**: The customer’s current query/problem.  \n",
    "\n",
    "Guidelines for the email:\n",
    "- Be polite, empathetic, and professional.  \n",
    "- Acknowledge the customer’s concern clearly.  \n",
    "- Refer to similar past cases from the context, if available, to support your advice.  \n",
    "- Suggest the next steps (e.g., inspection, documentation, claim submission).  \n",
    "- Keep the tone reassuring and customer-friendly.  \n",
    "- End with a courteous closing.\n",
    "\n",
    "Context:\n",
    "{output_retrieval_merged}\n",
    "\n",
    "Customer Query:\n",
    "{query}\n",
    "\n",
    "Draft Email:\n",
    "\"\"\"\n"
   ]
  },
  {
   "cell_type": "code",
   "execution_count": 30,
   "id": "5b54275f",
   "metadata": {},
   "outputs": [],
   "source": [
    "response = llm.invoke(prompt)"
   ]
  },
  {
   "cell_type": "code",
   "execution_count": 31,
   "id": "7b55dbe7",
   "metadata": {},
   "outputs": [
    {
     "data": {
      "text/markdown": [
       "Subject: Regarding Your Recent Kitchen Fire Incident - Next Steps for Your Claim\n",
       "\n",
       "Dear [Customer Name],\n",
       "\n",
       "I am truly sorry to hear about the fire incident in your kitchen. Experiencing such an event can be incredibly distressing, and please know that we are here to support you through this process. Your safety and well-being are our top priority.\n",
       "\n",
       "We understand that dealing with the aftermath of a fire can be overwhelming. Please prioritize your safety and the safety of your loved ones first.\n",
       "\n",
       "Based on similar situations our policyholders have faced, such as recent claims for kitchen fire damage, we typically find that these types of incidents are covered under your home insurance policy for repairs and appliance replacement. For example, we've recently assisted customers like C073 and C053 with similar kitchen fire claims, where coverage was approved for necessary repairs and replacement of damaged appliances. This gives us a positive outlook for your situation.\n",
       "\n",
       "To help us process your claim as efficiently as possible, here are the next steps we recommend:\n",
       "\n",
       "1.  **Ensure Safety**: If you haven't already, please ensure the area is safe and any immediate hazards have been addressed by emergency services.\n",
       "2.  **Document the Damage**: Please take clear photographs and videos of all damaged areas in your kitchen, including any affected appliances, cabinetry, walls, and flooring. This documentation is crucial for our assessment.\n",
       "3.  **Gather Reports**: If the fire department responded, please obtain a copy of their incident report, as this will be very helpful for your claim.\n",
       "4.  **Do Not Dispose of Damaged Items**: Please do not dispose of any damaged items until an adjuster has had the opportunity to inspect them, or until you are advised otherwise.\n",
       "5.  **Contact Us to File a Claim**: Please call our claims department directly at [Claims Phone Number] or visit our website at [Claims Website Link] to formally open your claim. Our team will guide you through the specific details required and arrange for an adjuster to assess the damage.\n",
       "\n",
       "We are committed to making this process as smooth and straightforward as possible for you. Once your claim is filed, an adjuster will be assigned to work with you directly, explain your coverage in detail, and outline the next steps for repairs and replacement.\n",
       "\n",
       "Please do not hesitate to reach out if you have any immediate questions or need further assistance.\n",
       "\n",
       "Sincerely,\n",
       "\n",
       "[Your Name/Underwriting Department]\n",
       "Expert Home Insurance Underwriter\n",
       "[Insurance Company Name]\n",
       "[Contact Information]"
      ],
      "text/plain": [
       "<IPython.core.display.Markdown object>"
      ]
     },
     "metadata": {},
     "output_type": "display_data"
    }
   ],
   "source": [
    "display(Markdown(response.content))"
   ]
  },
  {
   "cell_type": "code",
   "execution_count": null,
   "id": "5ad17a92",
   "metadata": {},
   "outputs": [],
   "source": []
  }
 ],
 "metadata": {
  "kernelspec": {
   "display_name": "venv",
   "language": "python",
   "name": "python3"
  },
  "language_info": {
   "codemirror_mode": {
    "name": "ipython",
    "version": 3
   },
   "file_extension": ".py",
   "mimetype": "text/x-python",
   "name": "python",
   "nbconvert_exporter": "python",
   "pygments_lexer": "ipython3",
   "version": "3.13.0"
  }
 },
 "nbformat": 4,
 "nbformat_minor": 5
}
